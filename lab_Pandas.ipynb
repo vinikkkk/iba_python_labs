{
  "metadata": {
    "kernelspec": {
      "name": "python",
      "display_name": "Python (Pyodide)",
      "language": "python"
    },
    "language_info": {
      "codemirror_mode": {
        "name": "python",
        "version": 3
      },
      "file_extension": ".py",
      "mimetype": "text/x-python",
      "name": "python",
      "nbconvert_exporter": "python",
      "pygments_lexer": "ipython3",
      "version": "3.8"
    }
  },
  "nbformat_minor": 4,
  "nbformat": 4,
  "cells": [
    {
      "cell_type": "markdown",
      "source": "Вам предстоит проанализировать данные о бронировании отелей. ",
      "metadata": {}
    },
    {
      "cell_type": "markdown",
      "source": "# Задание 1. \n\nИмпортируйте библиотеку pandas как pd. Загрузите датасет bookings.csv с разделителем ;. \nПроверьте размер таблицы, типы переменных, а затем выведите первые 7 строк, чтобы посмотреть на данные.",
      "metadata": {}
    },
    {
      "cell_type": "code",
      "source": "import pandas as pd",
      "metadata": {
        "trusted": true
      },
      "outputs": [],
      "execution_count": 7
    },
    {
      "cell_type": "code",
      "source": "df = pd.read_csv('2_bookings.csv', \n                 encoding='windows-1251', sep=';')",
      "metadata": {
        "trusted": true
      },
      "outputs": [],
      "execution_count": 8
    },
    {
      "cell_type": "code",
      "source": "df.shape",
      "metadata": {
        "trusted": true
      },
      "outputs": [
        {
          "execution_count": 3,
          "output_type": "execute_result",
          "data": {
            "text/plain": "(119390, 21)"
          },
          "metadata": {}
        }
      ],
      "execution_count": 3
    },
    {
      "cell_type": "code",
      "source": "df.dtypes",
      "metadata": {
        "trusted": true
      },
      "outputs": [
        {
          "execution_count": 4,
          "output_type": "execute_result",
          "data": {
            "text/plain": "Hotel                         object\nIs Canceled                    int64\nLead Time                      int64\narrival full date             object\nArrival Date Year              int64\nArrival Date Month            object\nArrival Date Week Number       int64\nArrival Date Day of Month      int64\nStays in Weekend nights        int64\nStays in week nights           int64\nstays total nights             int64\nAdults                         int64\nChildren                     float64\nBabies                         int64\nMeal                          object\nCountry                       object\nReserved Room Type            object\nAssigned room type            object\ncustomer type                 object\nReservation Status            object\nReservation status_date       object\ndtype: object"
          },
          "metadata": {}
        }
      ],
      "execution_count": 4
    },
    {
      "cell_type": "markdown",
      "source": "Описание данных.\nИмеются следующие переменные:\n\nHotel – тип отеля (City Hotel или Resort Hotel)\n\nIs canceled – бронирование было отменено (1) или нет (0); не отмененное считается успешным\n\nLead time – количество дней, прошедших между датой бронирования и датой прибытия\n\nArrival full date – полная дата прибытия\n\nArrival date year – год прибытия\n\nArrival date month – месяц прибытия\n\nArrival date week number – номер недели прибытия\n\nArrival date day of month – день прибытия\n\nStays in weekend nights – количество выходных (суббота или воскресенье), которые гость забронировал для проживания в отеле\n\nStays in week nights – количество дней (с понедельника по пятницу), которые гость забронировал для проживания в отеле\n\nStays total nights – общее число забронированных ночей (сумма двух предыдущих колонок)\n\nAdults – число взрослых\n\nChildren – число детей\n\nBabies – число младенцев\n\nMeal – выбранный тип питания\n\nCountry – страна происхождения клиента\n\nReserved room type – тип зарезервированного номера\n\nAssigned room type – тип полученного номера (может отличаться от забронированного)\n\nCustomer type – тип бронирования\n\nReservation status – значение последнего статуса брони: Canceled - было отменено клиентом; Check-Out - клиент зарегистрировался, но уже покинул отель; No-Show - клиент не зарегистрировался и сообщил администрации отеля причину\n\nReservation status date – дата обновления статуса",
      "metadata": {}
    },
    {
      "cell_type": "code",
      "source": "df.head(7)\n",
      "metadata": {
        "trusted": true
      },
      "outputs": [
        {
          "execution_count": 5,
          "output_type": "execute_result",
          "data": {
            "text/plain": "          Hotel  Is Canceled  Lead Time arrival full date  Arrival Date Year  \\\n0  Resort Hotel            0        342        2015-07-01               2015   \n1  Resort Hotel            0        737        2015-07-01               2015   \n2  Resort Hotel            0          7        2015-07-01               2015   \n3  Resort Hotel            0         13        2015-07-01               2015   \n4  Resort Hotel            0         14        2015-07-01               2015   \n5  Resort Hotel            0         14        2015-07-01               2015   \n6  Resort Hotel            0          0        2015-07-01               2015   \n\n  Arrival Date Month  Arrival Date Week Number  Arrival Date Day of Month  \\\n0               July                        27                          1   \n1               July                        27                          1   \n2               July                        27                          1   \n3               July                        27                          1   \n4               July                        27                          1   \n5               July                        27                          1   \n6               July                        27                          1   \n\n   Stays in Weekend nights  Stays in week nights  ...  Adults  Children  \\\n0                        0                     0  ...       2       0.0   \n1                        0                     0  ...       2       0.0   \n2                        0                     1  ...       1       0.0   \n3                        0                     1  ...       1       0.0   \n4                        0                     2  ...       2       0.0   \n5                        0                     2  ...       2       0.0   \n6                        0                     2  ...       2       0.0   \n\n   Babies  Meal Country Reserved Room Type Assigned room type customer type  \\\n0       0    BB     PRT                  C                  C     Transient   \n1       0    BB     PRT                  C                  C     Transient   \n2       0    BB     GBR                  A                  C     Transient   \n3       0    BB     GBR                  A                  A     Transient   \n4       0    BB     GBR                  A                  A     Transient   \n5       0    BB     GBR                  A                  A     Transient   \n6       0    BB     PRT                  C                  C     Transient   \n\n  Reservation Status Reservation status_date  \n0          Check-Out              2015-07-01  \n1          Check-Out              2015-07-01  \n2          Check-Out              2015-07-02  \n3          Check-Out              2015-07-02  \n4          Check-Out              2015-07-03  \n5          Check-Out              2015-07-03  \n6          Check-Out              2015-07-03  \n\n[7 rows x 21 columns]",
            "text/html": "<div>\n<style scoped>\n    .dataframe tbody tr th:only-of-type {\n        vertical-align: middle;\n    }\n\n    .dataframe tbody tr th {\n        vertical-align: top;\n    }\n\n    .dataframe thead th {\n        text-align: right;\n    }\n</style>\n<table border=\"1\" class=\"dataframe\">\n  <thead>\n    <tr style=\"text-align: right;\">\n      <th></th>\n      <th>Hotel</th>\n      <th>Is Canceled</th>\n      <th>Lead Time</th>\n      <th>arrival full date</th>\n      <th>Arrival Date Year</th>\n      <th>Arrival Date Month</th>\n      <th>Arrival Date Week Number</th>\n      <th>Arrival Date Day of Month</th>\n      <th>Stays in Weekend nights</th>\n      <th>Stays in week nights</th>\n      <th>...</th>\n      <th>Adults</th>\n      <th>Children</th>\n      <th>Babies</th>\n      <th>Meal</th>\n      <th>Country</th>\n      <th>Reserved Room Type</th>\n      <th>Assigned room type</th>\n      <th>customer type</th>\n      <th>Reservation Status</th>\n      <th>Reservation status_date</th>\n    </tr>\n  </thead>\n  <tbody>\n    <tr>\n      <th>0</th>\n      <td>Resort Hotel</td>\n      <td>0</td>\n      <td>342</td>\n      <td>2015-07-01</td>\n      <td>2015</td>\n      <td>July</td>\n      <td>27</td>\n      <td>1</td>\n      <td>0</td>\n      <td>0</td>\n      <td>...</td>\n      <td>2</td>\n      <td>0.0</td>\n      <td>0</td>\n      <td>BB</td>\n      <td>PRT</td>\n      <td>C</td>\n      <td>C</td>\n      <td>Transient</td>\n      <td>Check-Out</td>\n      <td>2015-07-01</td>\n    </tr>\n    <tr>\n      <th>1</th>\n      <td>Resort Hotel</td>\n      <td>0</td>\n      <td>737</td>\n      <td>2015-07-01</td>\n      <td>2015</td>\n      <td>July</td>\n      <td>27</td>\n      <td>1</td>\n      <td>0</td>\n      <td>0</td>\n      <td>...</td>\n      <td>2</td>\n      <td>0.0</td>\n      <td>0</td>\n      <td>BB</td>\n      <td>PRT</td>\n      <td>C</td>\n      <td>C</td>\n      <td>Transient</td>\n      <td>Check-Out</td>\n      <td>2015-07-01</td>\n    </tr>\n    <tr>\n      <th>2</th>\n      <td>Resort Hotel</td>\n      <td>0</td>\n      <td>7</td>\n      <td>2015-07-01</td>\n      <td>2015</td>\n      <td>July</td>\n      <td>27</td>\n      <td>1</td>\n      <td>0</td>\n      <td>1</td>\n      <td>...</td>\n      <td>1</td>\n      <td>0.0</td>\n      <td>0</td>\n      <td>BB</td>\n      <td>GBR</td>\n      <td>A</td>\n      <td>C</td>\n      <td>Transient</td>\n      <td>Check-Out</td>\n      <td>2015-07-02</td>\n    </tr>\n    <tr>\n      <th>3</th>\n      <td>Resort Hotel</td>\n      <td>0</td>\n      <td>13</td>\n      <td>2015-07-01</td>\n      <td>2015</td>\n      <td>July</td>\n      <td>27</td>\n      <td>1</td>\n      <td>0</td>\n      <td>1</td>\n      <td>...</td>\n      <td>1</td>\n      <td>0.0</td>\n      <td>0</td>\n      <td>BB</td>\n      <td>GBR</td>\n      <td>A</td>\n      <td>A</td>\n      <td>Transient</td>\n      <td>Check-Out</td>\n      <td>2015-07-02</td>\n    </tr>\n    <tr>\n      <th>4</th>\n      <td>Resort Hotel</td>\n      <td>0</td>\n      <td>14</td>\n      <td>2015-07-01</td>\n      <td>2015</td>\n      <td>July</td>\n      <td>27</td>\n      <td>1</td>\n      <td>0</td>\n      <td>2</td>\n      <td>...</td>\n      <td>2</td>\n      <td>0.0</td>\n      <td>0</td>\n      <td>BB</td>\n      <td>GBR</td>\n      <td>A</td>\n      <td>A</td>\n      <td>Transient</td>\n      <td>Check-Out</td>\n      <td>2015-07-03</td>\n    </tr>\n    <tr>\n      <th>5</th>\n      <td>Resort Hotel</td>\n      <td>0</td>\n      <td>14</td>\n      <td>2015-07-01</td>\n      <td>2015</td>\n      <td>July</td>\n      <td>27</td>\n      <td>1</td>\n      <td>0</td>\n      <td>2</td>\n      <td>...</td>\n      <td>2</td>\n      <td>0.0</td>\n      <td>0</td>\n      <td>BB</td>\n      <td>GBR</td>\n      <td>A</td>\n      <td>A</td>\n      <td>Transient</td>\n      <td>Check-Out</td>\n      <td>2015-07-03</td>\n    </tr>\n    <tr>\n      <th>6</th>\n      <td>Resort Hotel</td>\n      <td>0</td>\n      <td>0</td>\n      <td>2015-07-01</td>\n      <td>2015</td>\n      <td>July</td>\n      <td>27</td>\n      <td>1</td>\n      <td>0</td>\n      <td>2</td>\n      <td>...</td>\n      <td>2</td>\n      <td>0.0</td>\n      <td>0</td>\n      <td>BB</td>\n      <td>PRT</td>\n      <td>C</td>\n      <td>C</td>\n      <td>Transient</td>\n      <td>Check-Out</td>\n      <td>2015-07-03</td>\n    </tr>\n  </tbody>\n</table>\n<p>7 rows × 21 columns</p>\n</div>"
          },
          "metadata": {}
        }
      ],
      "execution_count": 5
    },
    {
      "cell_type": "markdown",
      "source": "# Задание 2. \nСохраните прочитанный датасет в bookings.\nЗатем запишите первые 7 строк в переменную bookings_head.",
      "metadata": {}
    },
    {
      "cell_type": "code",
      "source": "bookings_head = df.head(7)",
      "metadata": {
        "trusted": true
      },
      "outputs": [],
      "execution_count": 8
    },
    {
      "cell_type": "markdown",
      "source": "# Задание 3. \n\nПосмотрите на размеры таблицы. Сколько всего в ней столбцов?",
      "metadata": {}
    },
    {
      "cell_type": "code",
      "source": "df.shape[1]",
      "metadata": {
        "trusted": true
      },
      "outputs": [
        {
          "execution_count": 11,
          "output_type": "execute_result",
          "data": {
            "text/plain": "21"
          },
          "metadata": {}
        }
      ],
      "execution_count": 11
    },
    {
      "cell_type": "markdown",
      "source": "# Задание 4. \n\nК какому типу относится большинство переменных?",
      "metadata": {}
    },
    {
      "cell_type": "code",
      "source": "df.dtypes.value_counts()",
      "metadata": {
        "trusted": true
      },
      "outputs": [
        {
          "execution_count": 12,
          "output_type": "execute_result",
          "data": {
            "text/plain": "object     10\nint64      10\nfloat64     1\nName: count, dtype: int64"
          },
          "metadata": {}
        }
      ],
      "execution_count": 12
    },
    {
      "cell_type": "markdown",
      "source": "# Задание 5.\n\nКак вы уже могли заметить, при сборе датасета произошла небольшая ошибка, и названия колонок были записаны \nв неудобном для дальнейшей работы формате. Исправьте ситуацию, \nприведя названия столбцов к нижнему регистру и заменив пробелы на знак нижнего подчеркивания.\n\nНапример: Is Canceled -> is_canceled\n\nПодсказка: вы можете использовать цикл, который будет проходить по bookings.columns, а в теле цикла использовать методы строк:\n\ncolumn.replace(\" \", \"_\").lower()",
      "metadata": {}
    },
    {
      "cell_type": "code",
      "source": "df.columns = [col.replace(\" \", \"_\").lower() for col in df.columns]\n",
      "metadata": {
        "trusted": true
      },
      "outputs": [],
      "execution_count": 10
    },
    {
      "cell_type": "markdown",
      "source": "# Задание 6.\n\nПользователи из каких стран совершили наибольшее число успешных бронирований? Бронирование считается успешным, если в дальнейшем не было отменено (переменная is_canceled). В качестве ответа выберите страны, входящие в топ-5.\n\nПодсказка: здесь необходимо сделать группировку по ['country'] и агрегирование по сумме 'is_canceled'.\n",
      "metadata": {}
    },
    {
      "cell_type": "code",
      "source": "successful_bookings = df[df['is_canceled'] == 0]\n\ncountry_booking = successful_bookings.groupby('country').size()\n\ntop_5_countries = country_booking.sort_values(ascending=False).head(5)\n\nprint(top_5_countries)",
      "metadata": {
        "trusted": true
      },
      "outputs": [
        {
          "name": "stdout",
          "output_type": "stream",
          "text": "country\nPRT    21071\nGBR     9676\nFRA     8481\nESP     6391\nDEU     6069\ndtype: int64\n"
        }
      ],
      "execution_count": 11
    },
    {
      "cell_type": "markdown",
      "source": "# Задание 7.\n\nНа сколько ночей (stays_total_nights) в среднем бронируют отели типа City Hotel? Resort Hotel?",
      "metadata": {}
    },
    {
      "cell_type": "code",
      "source": "average_nights = df.groupby('hotel')['stays_total_nights'].mean()\n\nprint(average_nights)",
      "metadata": {
        "trusted": true
      },
      "outputs": [
        {
          "name": "stdout",
          "output_type": "stream",
          "text": "hotel\nCity Hotel      2.978142\nResort Hotel    4.318547\nName: stays_total_nights, dtype: float64\n"
        }
      ],
      "execution_count": 12
    },
    {
      "cell_type": "markdown",
      "source": "# Задание 8.\n\nИногда тип номера, присвоенного клиенту (assigned_room_type), отличается от изначально забронированного (reserved_room_type). Такое может произойти, например, по причине овербукинга. Сколько подобных наблюдений встретилось в датасете?\n\n*отмена бронирования также считается\n\n\nПодсказка: воспользуйтесь  .query('reserved_room_type != assigned_room_type')",
      "metadata": {}
    },
    {
      "cell_type": "code",
      "source": "overbooked = df.query('reserved_room_type != assigned_room_type or is_canceled == 1')\noverbooked_count = overbooked.shape[0]\nprint(\"Result:\", overbooked_count)",
      "metadata": {
        "trusted": true
      },
      "outputs": [
        {
          "name": "stdout",
          "output_type": "stream",
          "text": "Result: 58339\n"
        }
      ],
      "execution_count": 13
    },
    {
      "cell_type": "markdown",
      "source": "# Задание 9.\n\nТеперь проанализируйте даты запланированного прибытия (arrival_date_year). На какой месяц чаще всего оформляли бронь в 2016 году? Изменился ли самый популярный месяц в 2017?\n\nВам пригодится arrival_date_month.agg(pd.Series.mode) - Mode - возвращает самое часто встречаемое значение, если таких несколько возвращает их все\n",
      "metadata": {}
    },
    {
      "cell_type": "code",
      "source": "data_2016 = df[df['arrival_date_year'] == 2016]\ndata_2017 = df[df['arrival_date_year'] == 2017]\n\nmost_popular_month_2016 = data_2016['arrival_date_month'].agg(pd.Series.mode)\nmost_popular_month_2017 = data_2017['arrival_date_month'].agg(pd.Series.mode)\n\nprint(\"Most popular month in 2016:\", most_popular_month_2016)\nprint(\"Most popular month in 2017:\", most_popular_month_2017)",
      "metadata": {
        "trusted": true
      },
      "outputs": [
        {
          "name": "stdout",
          "output_type": "stream",
          "text": "Most popular month in 2016: 0    October\nName: arrival_date_month, dtype: object\nMost popular month in 2017: 0    May\nName: arrival_date_month, dtype: object\n"
        }
      ],
      "execution_count": 14
    },
    {
      "cell_type": "markdown",
      "source": "# Задание 10.\n\nСгруппируйте данные по годам, а затем проверьте, на какой месяц (arrival_date_month) бронирования отеля типа \nCity Hotel отменялись чаще всего в 2015? 2016? 2017?\n\nПодсказка: для этого сначала примените метод groupby, после чего выберите нужную колонку для дальнейших действий\n\nНапример:\n\ndf.groupby('column_1')['column_2'].what_to_do()",
      "metadata": {}
    },
    {
      "cell_type": "code",
      "source": "city_hotel_canceled = df[(df['hotel'] == 'City Hotel') & (df['is_canceled'] == 1)]\nmost_canceled_months = city_hotel_canceled.groupby(['arrival_date_year', 'arrival_date_month'])['is_canceled'].count()\n\nmost_canceled_months_2015 = most_canceled_months.loc[2015].idxmax()\nmost_canceled_months_2016 = most_canceled_months.loc[2016].idxmax()\nmost_canceled_months_2017 = most_canceled_months.loc[2017].idxmax()\n\nprint(\"Month in 2015:\", most_canceled_months_2015)\nprint(\"Month in 2016:\", most_canceled_months_2016)\nprint(\"Month in 2017:\", most_canceled_months_2017)",
      "metadata": {
        "trusted": true
      },
      "outputs": [
        {
          "name": "stdout",
          "output_type": "stream",
          "text": "Month in 2015: September\nMonth in 2016: October\nMonth in 2017: May\n"
        }
      ],
      "execution_count": 15
    },
    {
      "cell_type": "markdown",
      "source": "# Задание 11.\n\nПосмотрите на числовые характеристики трёх колонок: adults, children и babies. Какая из них имеет наибольшее среднее значение?",
      "metadata": {}
    },
    {
      "cell_type": "code",
      "source": "mean_values = df[['adults', 'children', 'babies']].mean()\n\nprint(\"Average value:\")\nprint(mean_values)\nmax_mean_column = mean_values.idxmax()\nprint(\"Max average value:\", max_mean_column)",
      "metadata": {
        "trusted": true
      },
      "outputs": [
        {
          "name": "stdout",
          "output_type": "stream",
          "text": "Average value:\nadults      1.856403\nchildren    0.103890\nbabies      0.007949\ndtype: float64\nMax average value: adults\n"
        }
      ],
      "execution_count": 21
    },
    {
      "cell_type": "markdown",
      "source": "# Задание 12\n\nСоздайте колонку total_kids, объединив столбцы children и babies. Для отелей какого типа среднее значение переменной оказалось наибольшим?\n\nCity hotel – отель находится в городе Resort hotel – отель курортный\n\nВ качестве ответа укажите наибольшее среднее total_kids, округлив до 2 знаков после точки.\n\n\nПодсказка: Создать новый столбец из 2-х предыдущих довольно просто, например\nbookings['новый столбец'] = bookings.старый_столбец_1 + bookings.старый_столбец_2",
      "metadata": {}
    },
    {
      "cell_type": "code",
      "source": "df['total_kids'] = df['children'] + df['babies']\n\nkids_in_hotel = df.groupby('hotel')['total_kids'].mean()\n\nkids_in_hotel = kids_in_hotel.round(2)\n\nprint(\"Average total_kids in every hotel:\")\nprint(kids_in_hotel)\n\nmax_kids_in_hotel = kids_in_hotel.idxmax()\n\nprint(\"Max total_kids in:\", max_kids_in_hotel)",
      "metadata": {
        "trusted": true
      },
      "outputs": [
        {
          "name": "stdout",
          "output_type": "stream",
          "text": "Average total_kids in every hotel:\nhotel\nCity Hotel      0.10\nResort Hotel    0.14\nName: total_kids, dtype: float64\nMax total_kids in: Resort Hotel\n"
        }
      ],
      "execution_count": 24
    },
    {
      "cell_type": "code",
      "source": "",
      "metadata": {},
      "outputs": [],
      "execution_count": null
    }
  ]
}