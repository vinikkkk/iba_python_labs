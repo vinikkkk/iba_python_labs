{
 "cells": [
  {
   "cell_type": "markdown",
   "metadata": {},
   "source": [
    "Импортируйте библиотеку pandas как pd. Загрузите два датасета user_data и logs. \n",
    "Проверьте размер таблицы, типы переменных.\n",
    "\n",
    "# Описание данных\n",
    "\n",
    "user_data:\n",
    "\n",
    "client – идентификатор пользователя\n",
    "\n",
    "premium – является ли клиент премиум\n",
    "\n",
    "age – возраст\n",
    "\n",
    "logs:\n",
    "\n",
    "client – идентификатор пользователя\n",
    "\n",
    "success – результат (успех - 1, нет - 0)\n",
    "\n",
    "platform – платформа\n",
    "\n",
    "time – время в формате Unix\n",
    "\n",
    "\n"
   ]
  },
  {
   "cell_type": "code",
   "execution_count": 1,
   "metadata": {},
   "outputs": [],
   "source": [
    "import pandas as pd"
   ]
  },
  {
   "cell_type": "code",
   "execution_count": 2,
   "metadata": {},
   "outputs": [],
   "source": [
    "user_data = pd.read_csv('3_user_data.csv') \n",
    "logs = pd.read_csv('3_logs.csv')"
   ]
  },
  {
   "cell_type": "markdown",
   "metadata": {},
   "source": [
    "# Задание 1 \n",
    "\n",
    "Вопрос: Сколько уникальных значений принимает переменная platform?"
   ]
  },
  {
   "cell_type": "code",
   "execution_count": 3,
   "metadata": {},
   "outputs": [
    {
     "data": {
      "text/plain": [
       "3"
      ]
     },
     "execution_count": 3,
     "metadata": {},
     "output_type": "execute_result"
    }
   ],
   "source": [
    "unique_platforms = logs['platform'].nunique()\n",
    "unique_platforms"
   ]
  },
  {
   "cell_type": "markdown",
   "metadata": {},
   "source": [
    "# Задание 2\n",
    "\n",
    "С какой платформы осуществляется наибольшее количество успешных операций? (success == True)\n",
    "\n",
    "\n",
    "Подсказка: вспомните команды из прошлого занятия \n",
    "\n",
    "Название_датафрейма.query('success == True').platform.value_counts()\n",
    "\n",
    "а еще команда idxmax()"
   ]
  },
  {
   "cell_type": "code",
   "execution_count": 4,
   "metadata": {},
   "outputs": [
    {
     "data": {
      "text/plain": [
       "'phone'"
      ]
     },
     "execution_count": 4,
     "metadata": {},
     "output_type": "execute_result"
    }
   ],
   "source": [
    "successful_operations = logs.query('success == 1')\n",
    "platform_counts = successful_operations['platform'].value_counts()\n",
    "most_successful_platform = platform_counts.idxmax()\n",
    "most_successful_platform"
   ]
  },
  {
   "cell_type": "markdown",
   "metadata": {},
   "source": [
    "# Задание 3\n",
    "\n",
    "Какой клиент совершил больше всего успешных операций?\n",
    "\n",
    "Внимание: Несколько пользователей могли совершить одинаковое число успешных действий\n",
    "\n",
    "Подсказка: вспомните команды из прошлого урока \n",
    "\n",
    "Название_датафрейма.query('success == True').client.value_counts()\n",
    "\n",
    "также поможет команда max()"
   ]
  },
  {
   "cell_type": "code",
   "execution_count": 5,
   "metadata": {},
   "outputs": [
    {
     "data": {
      "text/plain": [
       "client\n",
       "36165    41\n",
       "92584    41\n",
       "28719    41\n",
       "82563    41\n",
       "12179    41\n",
       "52870    41\n",
       "61468    41\n",
       "78349    41\n",
       "61473    41\n",
       "Name: count, dtype: int64"
      ]
     },
     "execution_count": 5,
     "metadata": {},
     "output_type": "execute_result"
    }
   ],
   "source": [
    "successful_operations = logs.query('success == 1')\n",
    "client_counts = successful_operations['client'].value_counts()\n",
    "max_operations = client_counts.max()\n",
    "most_successful_clients = client_counts[client_counts == max_operations]\n",
    "most_successful_clients"
   ]
  },
  {
   "cell_type": "markdown",
   "metadata": {},
   "source": [
    "# Задание 4\n",
    "\n",
    "Объедините два датафрейма в один по столбцу 'client'\n",
    "\n",
    "Подсказка: Название_датафрейма_1.merge(Название_датафрейма_2, on='client')"
   ]
  },
  {
   "cell_type": "code",
   "execution_count": 6,
   "metadata": {},
   "outputs": [
    {
     "data": {
      "text/html": [
       "<div>\n",
       "<style scoped>\n",
       "    .dataframe tbody tr th:only-of-type {\n",
       "        vertical-align: middle;\n",
       "    }\n",
       "\n",
       "    .dataframe tbody tr th {\n",
       "        vertical-align: top;\n",
       "    }\n",
       "\n",
       "    .dataframe thead th {\n",
       "        text-align: right;\n",
       "    }\n",
       "</style>\n",
       "<table border=\"1\" class=\"dataframe\">\n",
       "  <thead>\n",
       "    <tr style=\"text-align: right;\">\n",
       "      <th></th>\n",
       "      <th>client</th>\n",
       "      <th>premium</th>\n",
       "      <th>age</th>\n",
       "      <th>success</th>\n",
       "      <th>platform</th>\n",
       "      <th>time</th>\n",
       "    </tr>\n",
       "  </thead>\n",
       "  <tbody>\n",
       "    <tr>\n",
       "      <th>0</th>\n",
       "      <td>46346</td>\n",
       "      <td>False</td>\n",
       "      <td>58</td>\n",
       "      <td>True</td>\n",
       "      <td>phone</td>\n",
       "      <td>1585452839</td>\n",
       "    </tr>\n",
       "    <tr>\n",
       "      <th>1</th>\n",
       "      <td>4391</td>\n",
       "      <td>False</td>\n",
       "      <td>55</td>\n",
       "      <td>False</td>\n",
       "      <td>phone</td>\n",
       "      <td>1585409861</td>\n",
       "    </tr>\n",
       "    <tr>\n",
       "      <th>2</th>\n",
       "      <td>27372</td>\n",
       "      <td>False</td>\n",
       "      <td>64</td>\n",
       "      <td>False</td>\n",
       "      <td>phone</td>\n",
       "      <td>1585446018</td>\n",
       "    </tr>\n",
       "    <tr>\n",
       "      <th>3</th>\n",
       "      <td>11989</td>\n",
       "      <td>False</td>\n",
       "      <td>44</td>\n",
       "      <td>True</td>\n",
       "      <td>computer</td>\n",
       "      <td>1585403698</td>\n",
       "    </tr>\n",
       "    <tr>\n",
       "      <th>4</th>\n",
       "      <td>60664</td>\n",
       "      <td>False</td>\n",
       "      <td>49</td>\n",
       "      <td>True</td>\n",
       "      <td>phone</td>\n",
       "      <td>1585406918</td>\n",
       "    </tr>\n",
       "  </tbody>\n",
       "</table>\n",
       "</div>"
      ],
      "text/plain": [
       "   client  premium  age  success  platform        time\n",
       "0   46346    False   58     True     phone  1585452839\n",
       "1    4391    False   55    False     phone  1585409861\n",
       "2   27372    False   64    False     phone  1585446018\n",
       "3   11989    False   44     True  computer  1585403698\n",
       "4   60664    False   49     True     phone  1585406918"
      ]
     },
     "execution_count": 6,
     "metadata": {},
     "output_type": "execute_result"
    }
   ],
   "source": [
    "merged_data = user_data.merge(logs, on='client')\n",
    "merged_data.head()"
   ]
  },
  {
   "cell_type": "markdown",
   "metadata": {},
   "source": [
    "# Задание 5\n",
    "\n",
    "Какая платформа наиболее популярна среди премиумных клиентов? (premium == True)"
   ]
  },
  {
   "cell_type": "code",
   "execution_count": 7,
   "metadata": {},
   "outputs": [
    {
     "data": {
      "text/plain": [
       "'phone'"
      ]
     },
     "execution_count": 7,
     "metadata": {},
     "output_type": "execute_result"
    }
   ],
   "source": [
    "premium_clients = merged_data.query('premium == True')\n",
    "platform_counts = premium_clients['platform'].value_counts()\n",
    "most_popular_platform = platform_counts.idxmax()\n",
    "most_popular_platform"
   ]
  },
  {
   "cell_type": "markdown",
   "metadata": {},
   "source": [
    "# Задание 6\n",
    "\n",
    "Сделайте выборку для премиальных клиентов (premium` == True) и для непримеальных.\n",
    "\n",
    "На основе этих выборок постройте графики, первый - отображающий популярность использования различных платформ (столбец \"platform\") у премиальных пользователей и второй - платформы сради непримиальных пользователей. \n",
    "\n",
    "Подсказка: используйте sns.countplot(x=название_выборки[\"столбец\"])"
   ]
  },
  {
   "cell_type": "code",
   "execution_count": 10,
   "metadata": {},
   "outputs": [
    {
     "data": {
      "image/png": "[encoded data removed]",
      "text/plain": [
       "<Figure size 640x480 with 1 Axes>"
      ]
     },
     "metadata": {},
     "output_type": "display_data"
    },
    {
     "data": {
      "image/png": "[encoded data removed]",
      "text/plain": [
       "<Figure size 640x480 with 1 Axes>"
      ]
     },
     "metadata": {},
     "output_type": "display_data"
    }
   ],
   "source": [
    "import seaborn as sns\n",
    "import matplotlib.pyplot as plt\n",
    "premium_clients = merged_data.query('premium == True')\n",
    "non_premium_clients = merged_data.query('premium == False')\n",
    "a = sns.countplot(x='platform', data=premium_clients)\n",
    "a.set(xlabel='Platform', ylabel='Count')\n",
    "sns.despine() \n",
    "plt.title('The popularity of platforms among premium users')\n",
    "plt.show()\n",
    "b = sns.countplot(x='platform', data=non_premium_clients)\n",
    "b.set(xlabel='Platform', ylabel='Count')  \n",
    "sns.despine() \n",
    "plt.title('The popularity of platforms among non-premium users')\n",
    "plt.show()"
   ]
  },
  {
   "cell_type": "markdown",
   "metadata": {},
   "source": [
    "# Задание 7\n",
    "\n",
    "Визуализируйте число успешных операций, сделанных на платформе computer, в зависимости от возраста, используя sns.countplot. По оси x – возраст, y – число успешных операций. \n",
    "\n",
    "Если размер графика получается небольшим, можно добавить plt.figure(figsize=(12, 8)) в начало соответствующей ячейки.\n",
    "\n",
    "Подсказка: sns.countplot(data=Название_Датафрейма.loc[(Название_Датафрейма.platform == 'computer')\n",
    "                                   & (Название_Датафрейма.success == True)], x='age')"
   ]
  },
  {
   "cell_type": "code",
   "execution_count": 12,
   "metadata": {},
   "outputs": [
    {
     "data": {
      "image/png": "[encoded data removed]",
      "text/plain": [
       "<Figure size 1200x800 with 1 Axes>"
      ]
     },
     "metadata": {},
     "output_type": "display_data"
    }
   ],
   "source": [
    "plt.figure(figsize=(12, 8))\n",
    "filtered_data = merged_data[(merged_data['platform'] == 'computer') & (merged_data['success'] == 1)]\n",
    "sns.countplot(data=filtered_data, x='age')\n",
    "plt.xlabel('Age')\n",
    "plt.ylabel('Successful operations')\n",
    "sns.despine()\n",
    "plt.show()"
   ]
  }
 ],
 "metadata": {
  "kernelspec": {
   "display_name": "Python 3 (ipykernel)",
   "language": "python",
   "name": "python3"
  },
  "language_info": {
   "codemirror_mode": {
    "name": "ipython",
    "version": 3
   },
   "file_extension": ".py",
   "mimetype": "text/x-python",
   "name": "python",
   "nbconvert_exporter": "python",
   "pygments_lexer": "ipython3",
   "version": "3.13.2"
  }
 },
 "nbformat": 4,
 "nbformat_minor": 4
}
